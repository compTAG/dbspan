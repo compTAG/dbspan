{
 "cells": [
  {
   "cell_type": "markdown",
   "id": "c8e40eef",
   "metadata": {},
   "source": [
    "# Experiments for \"DBSpan: Density-Based Spanner for Clustering Complex Data, With an Application to Persistence Diagrams\"\n",
    "\n",
    "To get started, we will do a little bit of path hackery to import the library.  There are better ways to do this, but for now, this is okay."
   ]
  },
  {
   "cell_type": "code",
   "execution_count": 1,
   "id": "e2d093c4",
   "metadata": {},
   "outputs": [],
   "source": [
    "import random\n",
    "import sys\n",
    "import os\n",
    "\n",
    "libpath = os.path.abspath('..')\n",
    "sys.path.insert(0, libpath)\n",
    "\n",
    "import dbspan"
   ]
  },
  {
   "cell_type": "markdown",
   "id": "82486f89",
   "metadata": {},
   "source": [
    "We will do a bunch of comparisions of DBScan and DBSpan, so it will help if we have some code for making the algos"
   ]
  },
  {
   "cell_type": "code",
   "execution_count": 2,
   "id": "39afd857",
   "metadata": {},
   "outputs": [],
   "source": [
    "def make_algos(eps, min_samples, delta):\n",
    "    dgm_metric = dbspan.topology.DiagramMetric()\n",
    "\n",
    "    def dgm1_metric(dgm1, dgm2):\n",
    "        return dgm_metric.bottleneck(dgm1[1], dgm2[1])\n",
    "\n",
    "    algo_dbscan = dbspan.cluster.DBSCAN(metric=dgm1_metric, eps=eps, min_samples=min_samples)\n",
    "    algo_dbspan = dbspan.cluster.DBSpan(metric=dgm1_metric, eps=eps, min_samples=min_samples, delta=delta)\n",
    "\n",
    "    return algo_dbscan, algo_dbspan"
   ]
  },
  {
   "cell_type": "markdown",
   "id": "6a5c0c97",
   "metadata": {},
   "source": [
    "## Experiment 1: Point clouds of things in 4D\n",
    "\n",
    "First, we will create some tools for creating dgms of things in 4D.  Each function will produce a diagram from a rips filtration of a \"noisy\" sphere, torus, or swiss roll."
   ]
  },
  {
   "cell_type": "code",
   "execution_count": 3,
   "id": "51cc574c",
   "metadata": {},
   "outputs": [],
   "source": [
    "data_factory = dbspan.topology.PointSetDataFactory(seed=72330)\n",
    "dgm_factory = dbspan.topology.DiagramFactory()\n",
    "\n",
    "rng = random.Random(43081)\n",
    "\n",
    "def make_sphere_dgm():\n",
    "    points = data_factory.make_sphere(dim=4, num_points=100, noise=.1)\n",
    "    return dgm_factory.make_from_point_set(points)\n",
    "\n",
    "def make_torus_dgm():\n",
    "    points = data_factory.make_torus(dim=4, num_points=100, noise=.1)\n",
    "    return dgm_factory.make_from_point_set(points)\n",
    "\n",
    "def make_swiss_roll_dgm():\n",
    "    points = data_factory.make_swiss_roll(dim=4, num_points=100, noise=.1)\n",
    "    return dgm_factory.make_from_point_set(points)"
   ]
  },
  {
   "cell_type": "markdown",
   "id": "f567ad8c",
   "metadata": {},
   "source": [
    "Now that we have some functions for creating data, let's create our data set that we will cluster:"
   ]
  },
  {
   "cell_type": "code",
   "execution_count": 39,
   "id": "21b4ab72",
   "metadata": {},
   "outputs": [],
   "source": [
    "dgms = [make_sphere_dgm() for _ in range(30)] \\\n",
    "    + [make_torus_dgm() for _ in range(30)] \\\n",
    "    + [make_swiss_roll_dgm() for _ in range(14)]"
   ]
  },
  {
   "cell_type": "markdown",
   "id": "52efd5c7",
   "metadata": {},
   "source": [
    "And we are off!  Let's do some experiments"
   ]
  },
  {
   "cell_type": "code",
   "execution_count": 40,
   "id": "36d931b5",
   "metadata": {},
   "outputs": [],
   "source": [
    "import time\n",
    "import pandas as pd\n",
    "from sklearn import metrics\n",
    "\n",
    "def add_row(df, delta, num_edges, max_edges, rand_index, dbscan_time, dbspan_time):\n",
    "    data = [delta, rand_index, num_edges, max_edges, num_edges/max_edges, dbscan_time, dbspan_time, dbscan_time/dbspan_time]\n",
    "    cols=['$\\delta$', 'Rand index', 'Num Edges', 'maxEdges', '\\% Possible Edges', 'T_DBSCAN', 'DBSpan time (sec)', 'Speedup']\n",
    "    line = pd.DataFrame([data,], columns=cols)\n",
    "    return pd.concat([df, line])\n",
    "\n",
    "def run_configuration(df, data, delta, cache=None):\n",
    "    # create the algos\n",
    "    algo_dbscan, algo_dbspan = make_algos(eps=.3, min_samples=15, delta=delta)\n",
    "\n",
    "    # run the algos\n",
    "    t0 = time.perf_counter()\n",
    "    true_labels = cache['true_labels'] if cache else algo_dbscan.fit(data)\n",
    "    t1 = time.perf_counter()\n",
    "    dbspan_labels, dbg_data= algo_dbspan.fit(data, dbg=True)\n",
    "    t2 = time.perf_counter()\n",
    "    \n",
    "    # pull out the dbg data for the analysis\n",
    "    spanner = dbg_data['neighborhood'].spanner\n",
    "    \n",
    "    # prepare data for row\n",
    "    rand_index = metrics.rand_score(true_labels, dbspan_labels)\n",
    "    dbscan_time = cache['dbscan_time'] if cache else t1 - t0\n",
    "    dbspan_time = t2 - t1\n",
    "    num_edges = spanner.number_of_edges()\n",
    "    n = spanner.number_of_nodes()\n",
    "    max_edges = n * (n-1) / 2\n",
    "    \n",
    "    # return row\n",
    "    return add_row(df, delta, num_edges, max_edges, rand_index, dbscan_time, dbspan_time), {\n",
    "        'true_labels': true_labels,\n",
    "        'dbscan_time': dbscan_time,\n",
    "    }"
   ]
  },
  {
   "cell_type": "code",
   "execution_count": 41,
   "id": "6668efe4",
   "metadata": {},
   "outputs": [
    {
     "name": "stdout",
     "output_type": "stream",
     "text": [
      "   $\\delta$  Rand index  Num Edges  maxEdges  \\% Possible Edges    T_DBSCAN  \\\n",
      "0       0.1         1.0       2243    2701.0          0.8304332  74.9850758   \n",
      "\n",
      "   DBSpan time (sec)    Speedup  \n",
      "0         80.9130799  0.9267361  \n",
      "   $\\delta$  Rand index  Num Edges  maxEdges  \\% Possible Edges    T_DBSCAN  \\\n",
      "0       0.1         1.0       2243    2701.0          0.8304332  74.9850758   \n",
      "0       1.0         1.0       1114    2701.0          0.4124398  74.9850758   \n",
      "\n",
      "   DBSpan time (sec)    Speedup  \n",
      "0         80.9130799  0.9267361  \n",
      "0         47.9950000  1.5623518  \n",
      "   $\\delta$  Rand index  Num Edges  maxEdges  \\% Possible Edges    T_DBSCAN  \\\n",
      "0       0.1     1.00000       2243    2701.0          0.8304332  74.9850758   \n",
      "0       1.0     1.00000       1114    2701.0          0.4124398  74.9850758   \n",
      "0      10.0     0.98408        442    2701.0          0.1636431  74.9850758   \n",
      "\n",
      "   DBSpan time (sec)    Speedup  \n",
      "0         80.9130799  0.9267361  \n",
      "0         47.9950000  1.5623518  \n",
      "0         18.7433025  4.0006331  \n",
      "   $\\delta$  Rand index  Num Edges  maxEdges  \\% Possible Edges    T_DBSCAN  \\\n",
      "0       0.1    1.000000       2243    2701.0          0.8304332  74.9850758   \n",
      "0       1.0    1.000000       1114    2701.0          0.4124398  74.9850758   \n",
      "0      10.0    0.984080        442    2701.0          0.1636431  74.9850758   \n",
      "0      50.0    0.844502        398    2701.0          0.1473528  74.9850758   \n",
      "\n",
      "   DBSpan time (sec)    Speedup  \n",
      "0         80.9130799  0.9267361  \n",
      "0         47.9950000  1.5623518  \n",
      "0         18.7433025  4.0006331  \n",
      "0         16.5829404  4.5218203  \n",
      "   $\\delta$  Rand index  Num Edges  maxEdges  \\% Possible Edges    T_DBSCAN  \\\n",
      "0       0.1   1.0000000       2243    2701.0          0.8304332  74.9850758   \n",
      "0       1.0   1.0000000       1114    2701.0          0.4124398  74.9850758   \n",
      "0      10.0   0.9840800        442    2701.0          0.1636431  74.9850758   \n",
      "0      50.0   0.8445020        398    2701.0          0.1473528  74.9850758   \n",
      "0     100.0   0.8578304        375    2701.0          0.1388375  74.9850758   \n",
      "\n",
      "   DBSpan time (sec)    Speedup  \n",
      "0         80.9130799  0.9267361  \n",
      "0         47.9950000  1.5623518  \n",
      "0         18.7433025  4.0006331  \n",
      "0         16.5829404  4.5218203  \n",
      "0         15.6575869  4.7890570  \n",
      "   $\\delta$  Rand index  Num Edges  maxEdges  \\% Possible Edges    T_DBSCAN  \\\n",
      "0       0.1   1.0000000       2243    2701.0          0.8304332  74.9850758   \n",
      "0       1.0   1.0000000       1114    2701.0          0.4124398  74.9850758   \n",
      "0      10.0   0.9840800        442    2701.0          0.1636431  74.9850758   \n",
      "0      50.0   0.8445020        398    2701.0          0.1473528  74.9850758   \n",
      "0     100.0   0.8578304        375    2701.0          0.1388375  74.9850758   \n",
      "0     500.0   0.9544613        421    2701.0          0.1558682  74.9850758   \n",
      "\n",
      "   DBSpan time (sec)    Speedup  \n",
      "0         80.9130799  0.9267361  \n",
      "0         47.9950000  1.5623518  \n",
      "0         18.7433025  4.0006331  \n",
      "0         16.5829404  4.5218203  \n",
      "0         15.6575869  4.7890570  \n",
      "0         18.6248770  4.0260709  \n",
      "   $\\delta$  Rand index  Num Edges  maxEdges  \\% Possible Edges    T_DBSCAN  \\\n",
      "0       0.1   1.0000000       2243    2701.0          0.8304332  74.9850758   \n",
      "0       1.0   1.0000000       1114    2701.0          0.4124398  74.9850758   \n",
      "0      10.0   0.9840800        442    2701.0          0.1636431  74.9850758   \n",
      "0      50.0   0.8445020        398    2701.0          0.1473528  74.9850758   \n",
      "0     100.0   0.8578304        375    2701.0          0.1388375  74.9850758   \n",
      "0     500.0   0.9544613        421    2701.0          0.1558682  74.9850758   \n",
      "0    1000.0   0.8445020        388    2701.0          0.1436505  74.9850758   \n",
      "\n",
      "   DBSpan time (sec)    Speedup  \n",
      "0         80.9130799  0.9267361  \n",
      "0         47.9950000  1.5623518  \n",
      "0         18.7433025  4.0006331  \n",
      "0         16.5829404  4.5218203  \n",
      "0         15.6575869  4.7890570  \n",
      "0         18.6248770  4.0260709  \n",
      "0         17.4376794  4.3001752  \n"
     ]
    }
   ],
   "source": [
    "results = None\n",
    "cache = None\n",
    "for delta in [.1, 1, 10, 50, 100, 500, 1000]:\n",
    "    results, cache = run_configuration(results, dgms, delta, cache=cache)\n",
    "    print(results)"
   ]
  },
  {
   "cell_type": "code",
   "execution_count": 42,
   "id": "457444e8",
   "metadata": {},
   "outputs": [
    {
     "name": "stdout",
     "output_type": "stream",
     "text": [
      "\\begin{tabular}{lrrrrrrrr}\n",
      " & $\\delta$ & Rand index & Num Edges & maxEdges & \\% Possible Edges & T_DBSCAN & DBSpan time (sec) & Speedup \\\\\n",
      "0 & 0.100000 & 1.000000 & 2243 & 2701.000000 & 0.830433 & 74.985076 & 80.913080 & 0.926736 \\\\\n",
      "0 & 1.000000 & 1.000000 & 1114 & 2701.000000 & 0.412440 & 74.985076 & 47.995000 & 1.562352 \\\\\n",
      "0 & 10.000000 & 0.984080 & 442 & 2701.000000 & 0.163643 & 74.985076 & 18.743303 & 4.000633 \\\\\n",
      "0 & 50.000000 & 0.844502 & 398 & 2701.000000 & 0.147353 & 74.985076 & 16.582940 & 4.521820 \\\\\n",
      "0 & 100.000000 & 0.857830 & 375 & 2701.000000 & 0.138837 & 74.985076 & 15.657587 & 4.789057 \\\\\n",
      "0 & 500.000000 & 0.954461 & 421 & 2701.000000 & 0.155868 & 74.985076 & 18.624877 & 4.026071 \\\\\n",
      "0 & 1000.000000 & 0.844502 & 388 & 2701.000000 & 0.143650 & 74.985076 & 17.437679 & 4.300175 \\\\\n",
      "\\end{tabular}\n",
      "\n"
     ]
    }
   ],
   "source": [
    "tex_string = results.style.to_latex()\n",
    "print(tex_string)"
   ]
  },
  {
   "cell_type": "code",
   "execution_count": null,
   "id": "27c2d477",
   "metadata": {},
   "outputs": [],
   "source": []
  }
 ],
 "metadata": {
  "kernelspec": {
   "display_name": "Python 3 (ipykernel)",
   "language": "python",
   "name": "python3"
  },
  "language_info": {
   "codemirror_mode": {
    "name": "ipython",
    "version": 3
   },
   "file_extension": ".py",
   "mimetype": "text/x-python",
   "name": "python",
   "nbconvert_exporter": "python",
   "pygments_lexer": "ipython3",
   "version": "3.10.2"
  }
 },
 "nbformat": 4,
 "nbformat_minor": 5
}
